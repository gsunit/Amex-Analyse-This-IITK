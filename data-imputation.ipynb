{
 "cells": [
  {
   "cell_type": "code",
   "execution_count": 2,
   "metadata": {
    "collapsed": true
   },
   "outputs": [],
   "source": [
    "from IPython.core.interactiveshell import InteractiveShell\n",
    "InteractiveShell.ast_node_interactivity = \"all\""
   ]
  },
  {
   "cell_type": "code",
   "execution_count": 3,
   "metadata": {
    "collapsed": true
   },
   "outputs": [],
   "source": [
    "import pandas as pd\n",
    "import seaborn as sns\n",
    "import numpy as np\n",
    "\n",
    "from sklearn.discriminant_analysis import LinearDiscriminantAnalysis\n",
    "from sklearn.pipeline import Pipeline\n",
    "from sklearn.model_selection import KFold\n",
    "from sklearn.model_selection import cross_val_score\n",
    "from sklearn.base import TransformerMixin\n",
    "from sklearn.pipeline import Pipeline\n",
    "from sklearn.impute import SimpleImputers"
   ]
  },
  {
   "cell_type": "code",
   "execution_count": 4,
   "metadata": {
    "collapsed": false
   },
   "outputs": [
    {
     "data": {
      "text/html": [
       "<div>\n",
       "<style scoped>\n",
       "    .dataframe tbody tr th:only-of-type {\n",
       "        vertical-align: middle;\n",
       "    }\n",
       "\n",
       "    .dataframe tbody tr th {\n",
       "        vertical-align: top;\n",
       "    }\n",
       "\n",
       "    .dataframe thead th {\n",
       "        text-align: right;\n",
       "    }\n",
       "</style>\n",
       "<table border=\"1\" class=\"dataframe\">\n",
       "  <thead>\n",
       "    <tr style=\"text-align: right;\">\n",
       "      <th></th>\n",
       "      <th>cust_id</th>\n",
       "      <th>profitable_flag</th>\n",
       "      <th>count_accts</th>\n",
       "      <th>cm_age</th>\n",
       "      <th>flag_top_ed_spender</th>\n",
       "      <th>flag_cust_fee_paid_6m</th>\n",
       "      <th>pre6m_cust_spend</th>\n",
       "      <th>pre6m_cust_roc_cnt</th>\n",
       "      <th>pre6m_cust_non_disc_amt</th>\n",
       "      <th>pre6m_cust_non_disc_cnt</th>\n",
       "      <th>...</th>\n",
       "      <th>cnsumr_chrg_actv_cust_cnt</th>\n",
       "      <th>cnsumr_chrg_avg_credit_12m_amt</th>\n",
       "      <th>cnsumr_lend_actv_cust_cnt</th>\n",
       "      <th>cnsumr_lend_tot_util_ratio</th>\n",
       "      <th>sow_revol_avg_paydown_pct</th>\n",
       "      <th>sow_tot_annual_ext_pmt_amt</th>\n",
       "      <th>sow_tot_revol_bal_amt</th>\n",
       "      <th>sow_tot_revol_cnt</th>\n",
       "      <th>sow_tot_trans_bal_amt</th>\n",
       "      <th>sow_tot_trans_cnt</th>\n",
       "    </tr>\n",
       "  </thead>\n",
       "  <tbody>\n",
       "    <tr>\n",
       "      <th>0</th>\n",
       "      <td>550391.0</td>\n",
       "      <td>0.0</td>\n",
       "      <td>1.0</td>\n",
       "      <td>74.0</td>\n",
       "      <td>1.0</td>\n",
       "      <td>0.0</td>\n",
       "      <td>1518.0</td>\n",
       "      <td>122.0</td>\n",
       "      <td>811.0</td>\n",
       "      <td>96.0</td>\n",
       "      <td>...</td>\n",
       "      <td>0.0</td>\n",
       "      <td>NaN</td>\n",
       "      <td>1.0</td>\n",
       "      <td>0.034044</td>\n",
       "      <td>0.0000</td>\n",
       "      <td>991.0</td>\n",
       "      <td>NaN</td>\n",
       "      <td>0.0</td>\n",
       "      <td>NaN</td>\n",
       "      <td>3.0</td>\n",
       "    </tr>\n",
       "    <tr>\n",
       "      <th>1</th>\n",
       "      <td>550392.0</td>\n",
       "      <td>0.0</td>\n",
       "      <td>1.0</td>\n",
       "      <td>64.0</td>\n",
       "      <td>0.0</td>\n",
       "      <td>0.0</td>\n",
       "      <td>4807.0</td>\n",
       "      <td>354.0</td>\n",
       "      <td>1052.0</td>\n",
       "      <td>82.0</td>\n",
       "      <td>...</td>\n",
       "      <td>0.0</td>\n",
       "      <td>7.0</td>\n",
       "      <td>1.0</td>\n",
       "      <td>0.044086</td>\n",
       "      <td>0.0877</td>\n",
       "      <td>2.0</td>\n",
       "      <td>24.0</td>\n",
       "      <td>2.0</td>\n",
       "      <td>NaN</td>\n",
       "      <td>0.0</td>\n",
       "    </tr>\n",
       "    <tr>\n",
       "      <th>2</th>\n",
       "      <td>550393.0</td>\n",
       "      <td>0.0</td>\n",
       "      <td>1.0</td>\n",
       "      <td>75.0</td>\n",
       "      <td>1.0</td>\n",
       "      <td>0.0</td>\n",
       "      <td>2361.0</td>\n",
       "      <td>204.0</td>\n",
       "      <td>1351.0</td>\n",
       "      <td>118.0</td>\n",
       "      <td>...</td>\n",
       "      <td>0.0</td>\n",
       "      <td>NaN</td>\n",
       "      <td>1.0</td>\n",
       "      <td>0.039613</td>\n",
       "      <td>0.0000</td>\n",
       "      <td>4828.0</td>\n",
       "      <td>NaN</td>\n",
       "      <td>0.0</td>\n",
       "      <td>387.0</td>\n",
       "      <td>3.0</td>\n",
       "    </tr>\n",
       "    <tr>\n",
       "      <th>3</th>\n",
       "      <td>550394.0</td>\n",
       "      <td>0.0</td>\n",
       "      <td>2.0</td>\n",
       "      <td>73.0</td>\n",
       "      <td>0.0</td>\n",
       "      <td>1.0</td>\n",
       "      <td>5452.0</td>\n",
       "      <td>142.0</td>\n",
       "      <td>1195.0</td>\n",
       "      <td>50.0</td>\n",
       "      <td>...</td>\n",
       "      <td>1.0</td>\n",
       "      <td>493.0</td>\n",
       "      <td>1.0</td>\n",
       "      <td>0.001200</td>\n",
       "      <td>0.0000</td>\n",
       "      <td>4598.0</td>\n",
       "      <td>NaN</td>\n",
       "      <td>0.0</td>\n",
       "      <td>295.0</td>\n",
       "      <td>4.0</td>\n",
       "    </tr>\n",
       "    <tr>\n",
       "      <th>4</th>\n",
       "      <td>550395.0</td>\n",
       "      <td>0.0</td>\n",
       "      <td>2.0</td>\n",
       "      <td>68.0</td>\n",
       "      <td>0.0</td>\n",
       "      <td>0.0</td>\n",
       "      <td>170.0</td>\n",
       "      <td>34.0</td>\n",
       "      <td>88.0</td>\n",
       "      <td>20.0</td>\n",
       "      <td>...</td>\n",
       "      <td>0.0</td>\n",
       "      <td>NaN</td>\n",
       "      <td>2.0</td>\n",
       "      <td>0.003378</td>\n",
       "      <td>0.0168</td>\n",
       "      <td>2176.0</td>\n",
       "      <td>2606.0</td>\n",
       "      <td>5.0</td>\n",
       "      <td>143.0</td>\n",
       "      <td>13.0</td>\n",
       "    </tr>\n",
       "  </tbody>\n",
       "</table>\n",
       "<p>5 rows × 50 columns</p>\n",
       "</div>"
      ],
      "text/plain": [
       "    cust_id  profitable_flag  count_accts  cm_age  flag_top_ed_spender  \\\n",
       "0  550391.0              0.0          1.0    74.0                  1.0   \n",
       "1  550392.0              0.0          1.0    64.0                  0.0   \n",
       "2  550393.0              0.0          1.0    75.0                  1.0   \n",
       "3  550394.0              0.0          2.0    73.0                  0.0   \n",
       "4  550395.0              0.0          2.0    68.0                  0.0   \n",
       "\n",
       "   flag_cust_fee_paid_6m  pre6m_cust_spend  pre6m_cust_roc_cnt  \\\n",
       "0                    0.0            1518.0               122.0   \n",
       "1                    0.0            4807.0               354.0   \n",
       "2                    0.0            2361.0               204.0   \n",
       "3                    1.0            5452.0               142.0   \n",
       "4                    0.0             170.0                34.0   \n",
       "\n",
       "   pre6m_cust_non_disc_amt  pre6m_cust_non_disc_cnt  ...  \\\n",
       "0                    811.0                     96.0  ...   \n",
       "1                   1052.0                     82.0  ...   \n",
       "2                   1351.0                    118.0  ...   \n",
       "3                   1195.0                     50.0  ...   \n",
       "4                     88.0                     20.0  ...   \n",
       "\n",
       "   cnsumr_chrg_actv_cust_cnt  cnsumr_chrg_avg_credit_12m_amt  \\\n",
       "0                        0.0                             NaN   \n",
       "1                        0.0                             7.0   \n",
       "2                        0.0                             NaN   \n",
       "3                        1.0                           493.0   \n",
       "4                        0.0                             NaN   \n",
       "\n",
       "   cnsumr_lend_actv_cust_cnt  cnsumr_lend_tot_util_ratio  \\\n",
       "0                        1.0                    0.034044   \n",
       "1                        1.0                    0.044086   \n",
       "2                        1.0                    0.039613   \n",
       "3                        1.0                    0.001200   \n",
       "4                        2.0                    0.003378   \n",
       "\n",
       "   sow_revol_avg_paydown_pct  sow_tot_annual_ext_pmt_amt  \\\n",
       "0                     0.0000                       991.0   \n",
       "1                     0.0877                         2.0   \n",
       "2                     0.0000                      4828.0   \n",
       "3                     0.0000                      4598.0   \n",
       "4                     0.0168                      2176.0   \n",
       "\n",
       "   sow_tot_revol_bal_amt  sow_tot_revol_cnt  sow_tot_trans_bal_amt  \\\n",
       "0                    NaN                0.0                    NaN   \n",
       "1                   24.0                2.0                    NaN   \n",
       "2                    NaN                0.0                  387.0   \n",
       "3                    NaN                0.0                  295.0   \n",
       "4                 2606.0                5.0                  143.0   \n",
       "\n",
       "   sow_tot_trans_cnt  \n",
       "0                3.0  \n",
       "1                0.0  \n",
       "2                3.0  \n",
       "3                4.0  \n",
       "4               13.0  \n",
       "\n",
       "[5 rows x 50 columns]"
      ]
     },
     "execution_count": 4,
     "metadata": {},
     "output_type": "execute_result"
    },
    {
     "data": {
      "text/plain": [
       "(19595, 50)"
      ]
     },
     "execution_count": 4,
     "metadata": {},
     "output_type": "execute_result"
    }
   ],
   "source": [
    "df = pd.read_csv(\"./data/Training_Data_0611N_cleaned.csv\")\n",
    "df.head()\n",
    "df.shape"
   ]
  },
  {
   "cell_type": "code",
   "execution_count": 5,
   "metadata": {
    "collapsed": false
   },
   "outputs": [
    {
     "data": {
      "text/plain": [
       "cust_id                               0\n",
       "profitable_flag                       0\n",
       "count_accts                           0\n",
       "cm_age                                0\n",
       "flag_top_ed_spender                  48\n",
       "flag_cust_fee_paid_6m                 0\n",
       "pre6m_cust_spend                    590\n",
       "pre6m_cust_roc_cnt                    0\n",
       "pre6m_cust_non_disc_amt            1182\n",
       "pre6m_cust_non_disc_cnt               0\n",
       "pre6m_cust_disc_amt                 693\n",
       "pre6m_cust_disc_cnt                   0\n",
       "pre6m_cust_outbound_amt            2177\n",
       "pre6m_cust_online_amt              1211\n",
       "pre6m_cust_online_cnt                 0\n",
       "pre6m_cust_travel_amt              1921\n",
       "pre6m_cust_travel_cnt                 0\n",
       "pre6m_cust_retail_amt               834\n",
       "pre6m_cust_retail_cnt                 0\n",
       "pre6m_cust_myca_active                0\n",
       "pre6m_cust_mob_logins                 0\n",
       "pre6m_total_mc_trs                    0\n",
       "acq_sub_chn                         902\n",
       "acq_type_grp                        872\n",
       "fee_type_grp                          0\n",
       "Cust_tenure                         236\n",
       "pre6m_spend_active_ind              236\n",
       "highly_utilized_ind                 236\n",
       "min_pay_ind                         236\n",
       "paid_in_full_ind                    236\n",
       "sum_total_line_amt                 1784\n",
       "direct_debit_ind                    236\n",
       "referrals                           236\n",
       "spillover                           236\n",
       "self_accts                          236\n",
       "Customer Low Quality indicator      236\n",
       "cdss_most_rcnt_prob                 245\n",
       "cust_max_credit_12m_amt            1853\n",
       "cust_max_remit_12m_amt             2002\n",
       "cbr_3_score                         245\n",
       "cnsumr_chrg_actv_cust_cnt           245\n",
       "cnsumr_chrg_avg_credit_12m_amt    15448\n",
       "cnsumr_lend_actv_cust_cnt           245\n",
       "cnsumr_lend_tot_util_ratio          245\n",
       "sow_revol_avg_paydown_pct           245\n",
       "sow_tot_annual_ext_pmt_amt        10557\n",
       "sow_tot_revol_bal_amt             16492\n",
       "sow_tot_revol_cnt                   245\n",
       "sow_tot_trans_bal_amt             13909\n",
       "sow_tot_trans_cnt                   245\n",
       "dtype: int64"
      ]
     },
     "execution_count": 5,
     "metadata": {},
     "output_type": "execute_result"
    }
   ],
   "source": [
    "df.isna().sum()"
   ]
  },
  {
   "cell_type": "markdown",
   "metadata": {},
   "source": [
    "### Mean Imputation (removing Categorical Variables)"
   ]
  },
  {
   "cell_type": "code",
   "execution_count": null,
   "metadata": {
    "collapsed": false
   },
   "outputs": [],
   "source": [
    "df_non_cat = df.select_dtypes(exclude=['object'])\n",
    "\n",
    "X = df_non_cat.drop(columns='profitable_flag').values\n",
    "Y = df_non_cat['profitable_flag'].values\n",
    "\n",
    "X.shape\n",
    "Y.shape"
   ]
  },
  {
   "cell_type": "code",
   "execution_count": null,
   "metadata": {
    "collapsed": false
   },
   "outputs": [],
   "source": [
    "imputer = SimpleImputer(missing_values=np.nan, strategy='mean')\n",
    "lda = LinearDiscriminantAnalysis()\n",
    "pipeline = Pipeline(steps=[('imputer', imputer),('model', lda)])\n",
    "kfold = KFold(n_splits=3, shuffle=True, random_state=1)\n",
    "result = cross_val_score(pipeline, X, Y, cv=kfold, scoring='accuracy')\n",
    "\n",
    "print(f\"Cross-validation accuracy: {result.mean()}\")"
   ]
  },
  {
   "cell_type": "markdown",
   "metadata": {},
   "source": [
    "### Mean Imputation (removing Categorical Variables & correlated features)"
   ]
  },
  {
   "cell_type": "code",
   "execution_count": 24,
   "metadata": {
    "collapsed": false
   },
   "outputs": [
    {
     "data": {
      "text/plain": [
       "(19595, 2)"
      ]
     },
     "execution_count": 24,
     "metadata": {},
     "output_type": "execute_result"
    },
    {
     "data": {
      "text/plain": [
       "(19595,)"
      ]
     },
     "execution_count": 24,
     "metadata": {},
     "output_type": "execute_result"
    }
   ],
   "source": [
    "corr_matrix = df.corr().abs()\n",
    "upper = corr_matrix.where(np.triu(np.ones(corr_matrix.shape), k=1).astype(np.bool))\n",
    "threshold = 0.05\n",
    "to_drop = [column for column in upper.columns if any(upper[column] > threshold)]\n",
    "\n",
    "\n",
    "df_dropped = df.drop(columns=to_drop)\n",
    "df_dropped = df_dropped.select_dtypes(exclude=['object'])\n",
    "\n",
    "X = df_dropped.drop(columns='profitable_flag').values\n",
    "Y = df_dropped['profitable_flag'].values\n",
    "\n",
    "X.shape\n",
    "Y.shape"
   ]
  },
  {
   "cell_type": "code",
   "execution_count": 27,
   "metadata": {
    "collapsed": false
   },
   "outputs": [
    {
     "data": {
      "text/plain": [
       "Index(['cust_id', 'profitable_flag', 'count_accts'], dtype='object')"
      ]
     },
     "execution_count": 27,
     "metadata": {},
     "output_type": "execute_result"
    }
   ],
   "source": [
    "df_dropped.columns"
   ]
  },
  {
   "cell_type": "code",
   "execution_count": null,
   "metadata": {
    "collapsed": true
   },
   "outputs": [],
   "source": []
  },
  {
   "cell_type": "code",
   "execution_count": 23,
   "metadata": {
    "collapsed": false
   },
   "outputs": [
    {
     "name": "stdout",
     "output_type": "stream",
     "text": [
      "Cross-validation accuracy: 0.8140343138408562\n"
     ]
    }
   ],
   "source": [
    "imputer = SimpleImputer(missing_values=np.nan, strategy='mean')\n",
    "lda = LinearDiscriminantAnalysis()\n",
    "pipeline = Pipeline(steps=[('imputer', imputer),('model', lda)])\n",
    "kfold = KFold(n_splits=3, shuffle=True, random_state=1)\n",
    "result = cross_val_score(pipeline, X, Y, cv=kfold, scoring='accuracy')\n",
    "\n",
    "print(f\"Cross-validation accuracy: {result.mean()}\")"
   ]
  },
  {
   "cell_type": "markdown",
   "metadata": {},
   "source": [
    "### Mean Imputation (including Categorical Variables)"
   ]
  },
  {
   "cell_type": "code",
   "execution_count": null,
   "metadata": {
    "collapsed": false
   },
   "outputs": [],
   "source": [
    "class DataFrameImputer(TransformerMixin):\n",
    "    def __init__(self):\n",
    "        \"\"\"Impute missing values.\n",
    "\n",
    "        Columns of dtype object are imputed with the most frequent value \n",
    "        in column.\n",
    "\n",
    "        Columns of other types are imputed with mean of column.\n",
    "\n",
    "        \"\"\"\n",
    "    def fit(self, X, y=None):\n",
    "\n",
    "        self.fill = pd.Series([X[c].value_counts().index[0]\n",
    "            if X[c].dtype == np.dtype('O') else X[c].mean() for c in X],\n",
    "            index=X.columns)\n",
    "        return self\n",
    "\n",
    "    def transform(self, X, y=None):\n",
    "        return X.fillna(self.fill)\n"
   ]
  },
  {
   "cell_type": "code",
   "execution_count": null,
   "metadata": {
    "collapsed": false
   },
   "outputs": [],
   "source": [
    "df_t = DataFrameImputer().fit_transform(df)\n",
    "\n",
    "df_t.isna().any().any()\n",
    "df_t.shape"
   ]
  },
  {
   "cell_type": "code",
   "execution_count": null,
   "metadata": {
    "collapsed": false
   },
   "outputs": [],
   "source": [
    "X = df_t.drop('profitable_flag', axis='columns').values\n",
    "Y = df_t['profitable_flag'].values\n",
    "\n",
    "\n",
    "\n",
    "lda = LinearDiscriminantAnalysis()\n",
    "kfold = KFold(n_splits=3, shuffle=True, random_state=1)\n",
    "\n",
    "result = cross_val_score(lda, X, Y, cv=kfold, scoring='accuracy')\n",
    "result"
   ]
  }
 ],
 "metadata": {
  "kernelspec": {
   "display_name": "Python 3",
   "language": "python",
   "name": "python3"
  },
  "language_info": {
   "codemirror_mode": {
    "name": "ipython",
    "version": 3
   },
   "file_extension": ".py",
   "mimetype": "text/x-python",
   "name": "python",
   "nbconvert_exporter": "python",
   "pygments_lexer": "ipython3",
   "version": "3.6.9"
  }
 },
 "nbformat": 4,
 "nbformat_minor": 0
}
