{
 "cells": [
  {
   "cell_type": "code",
   "execution_count": 149,
   "metadata": {},
   "outputs": [
    {
     "name": "stdout",
     "output_type": "stream",
     "text": [
      "(19599, 50)\n"
     ]
    },
    {
     "data": {
      "text/html": [
       "<div>\n",
       "<style scoped>\n",
       "    .dataframe tbody tr th:only-of-type {\n",
       "        vertical-align: middle;\n",
       "    }\n",
       "\n",
       "    .dataframe tbody tr th {\n",
       "        vertical-align: top;\n",
       "    }\n",
       "\n",
       "    .dataframe thead th {\n",
       "        text-align: right;\n",
       "    }\n",
       "</style>\n",
       "<table border=\"1\" class=\"dataframe\">\n",
       "  <thead>\n",
       "    <tr style=\"text-align: right;\">\n",
       "      <th></th>\n",
       "      <th>cust_id</th>\n",
       "      <th>profitable_flag</th>\n",
       "      <th>count_accts</th>\n",
       "      <th>cm_age</th>\n",
       "      <th>flag_top_ed_spender</th>\n",
       "      <th>flag_cust_fee_paid_6m</th>\n",
       "      <th>pre6m_cust_spend</th>\n",
       "      <th>pre6m_cust_roc_cnt</th>\n",
       "      <th>pre6m_cust_non_disc_amt</th>\n",
       "      <th>pre6m_cust_non_disc_cnt</th>\n",
       "      <th>...</th>\n",
       "      <th>cnsumr_chrg_actv_cust_cnt</th>\n",
       "      <th>cnsumr_chrg_avg_credit_12m_amt</th>\n",
       "      <th>cnsumr_lend_actv_cust_cnt</th>\n",
       "      <th>cnsumr_lend_tot_util_ratio</th>\n",
       "      <th>sow_revol_avg_paydown_pct</th>\n",
       "      <th>sow_tot_annual_ext_pmt_amt</th>\n",
       "      <th>sow_tot_revol_bal_amt</th>\n",
       "      <th>sow_tot_revol_cnt</th>\n",
       "      <th>sow_tot_trans_bal_amt</th>\n",
       "      <th>sow_tot_trans_cnt</th>\n",
       "    </tr>\n",
       "  </thead>\n",
       "  <tbody>\n",
       "    <tr>\n",
       "      <th>0</th>\n",
       "      <td>550391.0</td>\n",
       "      <td>0.0</td>\n",
       "      <td>1.0</td>\n",
       "      <td>74.0</td>\n",
       "      <td>1.0</td>\n",
       "      <td>0.0</td>\n",
       "      <td>1518.0</td>\n",
       "      <td>122.0</td>\n",
       "      <td>811.0</td>\n",
       "      <td>96.0</td>\n",
       "      <td>...</td>\n",
       "      <td>0.0</td>\n",
       "      <td>NaN</td>\n",
       "      <td>1.0</td>\n",
       "      <td>0.034044</td>\n",
       "      <td>0.0000</td>\n",
       "      <td>991.0</td>\n",
       "      <td>NaN</td>\n",
       "      <td>0.0</td>\n",
       "      <td>NaN</td>\n",
       "      <td>3.0</td>\n",
       "    </tr>\n",
       "    <tr>\n",
       "      <th>1</th>\n",
       "      <td>550392.0</td>\n",
       "      <td>0.0</td>\n",
       "      <td>1.0</td>\n",
       "      <td>64.0</td>\n",
       "      <td>0.0</td>\n",
       "      <td>0.0</td>\n",
       "      <td>4807.0</td>\n",
       "      <td>354.0</td>\n",
       "      <td>1052.0</td>\n",
       "      <td>82.0</td>\n",
       "      <td>...</td>\n",
       "      <td>0.0</td>\n",
       "      <td>7.0</td>\n",
       "      <td>1.0</td>\n",
       "      <td>0.044086</td>\n",
       "      <td>0.0877</td>\n",
       "      <td>2.0</td>\n",
       "      <td>24.0</td>\n",
       "      <td>2.0</td>\n",
       "      <td>NaN</td>\n",
       "      <td>0.0</td>\n",
       "    </tr>\n",
       "    <tr>\n",
       "      <th>2</th>\n",
       "      <td>550393.0</td>\n",
       "      <td>0.0</td>\n",
       "      <td>1.0</td>\n",
       "      <td>75.0</td>\n",
       "      <td>1.0</td>\n",
       "      <td>0.0</td>\n",
       "      <td>2361.0</td>\n",
       "      <td>204.0</td>\n",
       "      <td>1351.0</td>\n",
       "      <td>118.0</td>\n",
       "      <td>...</td>\n",
       "      <td>0.0</td>\n",
       "      <td>NaN</td>\n",
       "      <td>1.0</td>\n",
       "      <td>0.039613</td>\n",
       "      <td>0.0000</td>\n",
       "      <td>4828.0</td>\n",
       "      <td>NaN</td>\n",
       "      <td>0.0</td>\n",
       "      <td>387.0</td>\n",
       "      <td>3.0</td>\n",
       "    </tr>\n",
       "    <tr>\n",
       "      <th>3</th>\n",
       "      <td>550394.0</td>\n",
       "      <td>0.0</td>\n",
       "      <td>2.0</td>\n",
       "      <td>73.0</td>\n",
       "      <td>0.0</td>\n",
       "      <td>1.0</td>\n",
       "      <td>5452.0</td>\n",
       "      <td>142.0</td>\n",
       "      <td>1195.0</td>\n",
       "      <td>50.0</td>\n",
       "      <td>...</td>\n",
       "      <td>1.0</td>\n",
       "      <td>493.0</td>\n",
       "      <td>1.0</td>\n",
       "      <td>0.001200</td>\n",
       "      <td>0.0000</td>\n",
       "      <td>4598.0</td>\n",
       "      <td>NaN</td>\n",
       "      <td>0.0</td>\n",
       "      <td>295.0</td>\n",
       "      <td>4.0</td>\n",
       "    </tr>\n",
       "    <tr>\n",
       "      <th>4</th>\n",
       "      <td>550395.0</td>\n",
       "      <td>0.0</td>\n",
       "      <td>2.0</td>\n",
       "      <td>68.0</td>\n",
       "      <td>0.0</td>\n",
       "      <td>0.0</td>\n",
       "      <td>170.0</td>\n",
       "      <td>34.0</td>\n",
       "      <td>88.0</td>\n",
       "      <td>20.0</td>\n",
       "      <td>...</td>\n",
       "      <td>0.0</td>\n",
       "      <td>NaN</td>\n",
       "      <td>2.0</td>\n",
       "      <td>0.003378</td>\n",
       "      <td>0.0168</td>\n",
       "      <td>2176.0</td>\n",
       "      <td>2606.0</td>\n",
       "      <td>5.0</td>\n",
       "      <td>143.0</td>\n",
       "      <td>13.0</td>\n",
       "    </tr>\n",
       "  </tbody>\n",
       "</table>\n",
       "<p>5 rows × 50 columns</p>\n",
       "</div>"
      ],
      "text/plain": [
       "    cust_id  profitable_flag  count_accts  cm_age  flag_top_ed_spender  \\\n",
       "0  550391.0              0.0          1.0    74.0                  1.0   \n",
       "1  550392.0              0.0          1.0    64.0                  0.0   \n",
       "2  550393.0              0.0          1.0    75.0                  1.0   \n",
       "3  550394.0              0.0          2.0    73.0                  0.0   \n",
       "4  550395.0              0.0          2.0    68.0                  0.0   \n",
       "\n",
       "   flag_cust_fee_paid_6m  pre6m_cust_spend  pre6m_cust_roc_cnt  \\\n",
       "0                    0.0            1518.0               122.0   \n",
       "1                    0.0            4807.0               354.0   \n",
       "2                    0.0            2361.0               204.0   \n",
       "3                    1.0            5452.0               142.0   \n",
       "4                    0.0             170.0                34.0   \n",
       "\n",
       "   pre6m_cust_non_disc_amt  pre6m_cust_non_disc_cnt  ...  \\\n",
       "0                    811.0                     96.0  ...   \n",
       "1                   1052.0                     82.0  ...   \n",
       "2                   1351.0                    118.0  ...   \n",
       "3                   1195.0                     50.0  ...   \n",
       "4                     88.0                     20.0  ...   \n",
       "\n",
       "   cnsumr_chrg_actv_cust_cnt  cnsumr_chrg_avg_credit_12m_amt  \\\n",
       "0                        0.0                             NaN   \n",
       "1                        0.0                             7.0   \n",
       "2                        0.0                             NaN   \n",
       "3                        1.0                           493.0   \n",
       "4                        0.0                             NaN   \n",
       "\n",
       "   cnsumr_lend_actv_cust_cnt  cnsumr_lend_tot_util_ratio  \\\n",
       "0                        1.0                    0.034044   \n",
       "1                        1.0                    0.044086   \n",
       "2                        1.0                    0.039613   \n",
       "3                        1.0                    0.001200   \n",
       "4                        2.0                    0.003378   \n",
       "\n",
       "   sow_revol_avg_paydown_pct  sow_tot_annual_ext_pmt_amt  \\\n",
       "0                     0.0000                       991.0   \n",
       "1                     0.0877                         2.0   \n",
       "2                     0.0000                      4828.0   \n",
       "3                     0.0000                      4598.0   \n",
       "4                     0.0168                      2176.0   \n",
       "\n",
       "   sow_tot_revol_bal_amt  sow_tot_revol_cnt  sow_tot_trans_bal_amt  \\\n",
       "0                    NaN                0.0                    NaN   \n",
       "1                   24.0                2.0                    NaN   \n",
       "2                    NaN                0.0                  387.0   \n",
       "3                    NaN                0.0                  295.0   \n",
       "4                 2606.0                5.0                  143.0   \n",
       "\n",
       "   sow_tot_trans_cnt  \n",
       "0                3.0  \n",
       "1                0.0  \n",
       "2                3.0  \n",
       "3                4.0  \n",
       "4               13.0  \n",
       "\n",
       "[5 rows x 50 columns]"
      ]
     },
     "execution_count": 149,
     "metadata": {},
     "output_type": "execute_result"
    }
   ],
   "source": [
    "import pandas as pd\n",
    "\n",
    "df = pd.read_csv('./data/Training_Data_0611N_cleaned.csv').drop('Unnamed: 0', axis=1)\n",
    "print(df.shape)\n",
    "df.head()"
   ]
  },
  {
   "cell_type": "code",
   "execution_count": 150,
   "metadata": {},
   "outputs": [
    {
     "data": {
      "text/plain": [
       "cust_id                               0\n",
       "profitable_flag                       0\n",
       "count_accts                           0\n",
       "cm_age                                0\n",
       "flag_top_ed_spender                  48\n",
       "flag_cust_fee_paid_6m                 0\n",
       "pre6m_cust_spend                    590\n",
       "pre6m_cust_roc_cnt                    0\n",
       "pre6m_cust_non_disc_amt            1182\n",
       "pre6m_cust_non_disc_cnt               0\n",
       "pre6m_cust_disc_amt                 693\n",
       "pre6m_cust_disc_cnt                   0\n",
       "pre6m_cust_outbound_amt            2177\n",
       "pre6m_cust_online_amt              1211\n",
       "pre6m_cust_online_cnt                 0\n",
       "pre6m_cust_travel_amt              1921\n",
       "pre6m_cust_travel_cnt                 0\n",
       "pre6m_cust_retail_amt               834\n",
       "pre6m_cust_retail_cnt                 0\n",
       "pre6m_cust_myca_active                0\n",
       "pre6m_cust_mob_logins                 0\n",
       "pre6m_total_mc_trs                    0\n",
       "acq_sub_chn                         902\n",
       "acq_type_grp                        872\n",
       "fee_type_grp                          0\n",
       "Cust_tenure                         236\n",
       "pre6m_spend_active_ind              236\n",
       "highly_utilized_ind                 236\n",
       "min_pay_ind                         236\n",
       "paid_in_full_ind                    236\n",
       "sum_total_line_amt                 1784\n",
       "direct_debit_ind                    236\n",
       "referrals                           236\n",
       "spillover                           236\n",
       "self_accts                          236\n",
       "Customer Low Quality indicator      236\n",
       "cdss_most_rcnt_prob                 245\n",
       "cust_max_credit_12m_amt            1853\n",
       "cust_max_remit_12m_amt             2002\n",
       "cbr_3_score                         245\n",
       "cnsumr_chrg_actv_cust_cnt           245\n",
       "cnsumr_chrg_avg_credit_12m_amt    15448\n",
       "cnsumr_lend_actv_cust_cnt           245\n",
       "cnsumr_lend_tot_util_ratio          245\n",
       "sow_revol_avg_paydown_pct           245\n",
       "sow_tot_annual_ext_pmt_amt        10557\n",
       "sow_tot_revol_bal_amt             16492\n",
       "sow_tot_revol_cnt                   245\n",
       "sow_tot_trans_bal_amt             13909\n",
       "sow_tot_trans_cnt                   245\n",
       "dtype: int64"
      ]
     },
     "execution_count": 150,
     "metadata": {},
     "output_type": "execute_result"
    }
   ],
   "source": [
    "df.dropna(subset=['cust_id'], inplace=True)\n",
    "df.isna().sum()"
   ]
  },
  {
   "cell_type": "code",
   "execution_count": 151,
   "metadata": {},
   "outputs": [
    {
     "name": "stdout",
     "output_type": "stream",
     "text": [
      "(19595, 50)\n",
      "(218, 50)\n"
     ]
    }
   ],
   "source": [
    "print(df.shape)\n",
    "print(df.dropna().shape)"
   ]
  },
  {
   "cell_type": "markdown",
   "metadata": {},
   "source": [
    "### Drop some highly null columns"
   ]
  },
  {
   "cell_type": "code",
   "execution_count": 152,
   "metadata": {},
   "outputs": [
    {
     "name": "stdout",
     "output_type": "stream",
     "text": [
      "(19595, 46)\n",
      "(13596, 46)\n"
     ]
    }
   ],
   "source": [
    "high_null = ['cnsumr_chrg_avg_credit_12m_amt', 'sow_tot_annual_ext_pmt_amt', 'sow_tot_revol_bal_amt', \n",
    "             'sow_tot_trans_bal_amt']\n",
    "df_wo_nulls = df.drop(high_null, axis=1)\n",
    "print(df_wo_nulls.shape)\n",
    "print(df_wo_nulls.dropna().shape)"
   ]
  },
  {
   "cell_type": "code",
   "execution_count": 153,
   "metadata": {},
   "outputs": [
    {
     "data": {
      "text/plain": [
       "cust_id                              0\n",
       "profitable_flag                      0\n",
       "count_accts                          0\n",
       "cm_age                               0\n",
       "flag_top_ed_spender                 48\n",
       "flag_cust_fee_paid_6m                0\n",
       "pre6m_cust_spend                   590\n",
       "pre6m_cust_roc_cnt                   0\n",
       "pre6m_cust_non_disc_amt           1182\n",
       "pre6m_cust_non_disc_cnt              0\n",
       "pre6m_cust_disc_amt                693\n",
       "pre6m_cust_disc_cnt                  0\n",
       "pre6m_cust_outbound_amt           2177\n",
       "pre6m_cust_online_amt             1211\n",
       "pre6m_cust_online_cnt                0\n",
       "pre6m_cust_travel_amt             1921\n",
       "pre6m_cust_travel_cnt                0\n",
       "pre6m_cust_retail_amt              834\n",
       "pre6m_cust_retail_cnt                0\n",
       "pre6m_cust_myca_active               0\n",
       "pre6m_cust_mob_logins                0\n",
       "pre6m_total_mc_trs                   0\n",
       "acq_sub_chn                        902\n",
       "acq_type_grp                       872\n",
       "fee_type_grp                         0\n",
       "Cust_tenure                        236\n",
       "pre6m_spend_active_ind             236\n",
       "highly_utilized_ind                236\n",
       "min_pay_ind                        236\n",
       "paid_in_full_ind                   236\n",
       "sum_total_line_amt                1784\n",
       "direct_debit_ind                   236\n",
       "referrals                          236\n",
       "spillover                          236\n",
       "self_accts                         236\n",
       "Customer Low Quality indicator     236\n",
       "cdss_most_rcnt_prob                245\n",
       "cust_max_credit_12m_amt           1853\n",
       "cust_max_remit_12m_amt            2002\n",
       "cbr_3_score                        245\n",
       "cnsumr_chrg_actv_cust_cnt          245\n",
       "cnsumr_lend_actv_cust_cnt          245\n",
       "cnsumr_lend_tot_util_ratio         245\n",
       "sow_revol_avg_paydown_pct          245\n",
       "sow_tot_revol_cnt                  245\n",
       "sow_tot_trans_cnt                  245\n",
       "dtype: int64"
      ]
     },
     "execution_count": 153,
     "metadata": {},
     "output_type": "execute_result"
    }
   ],
   "source": [
    "df_wo_nulls.isna().sum()"
   ]
  },
  {
   "cell_type": "code",
   "execution_count": 143,
   "metadata": {},
   "outputs": [
    {
     "data": {
      "text/plain": [
       "0.0    185\n",
       "1.0     33\n",
       "Name: profitable_flag, dtype: int64"
      ]
     },
     "execution_count": 143,
     "metadata": {},
     "output_type": "execute_result"
    }
   ],
   "source": [
    "df['profitable_flag'].value_counts()"
   ]
  },
  {
   "cell_type": "code",
   "execution_count": 20,
   "metadata": {},
   "outputs": [],
   "source": [
    "from sklearn.model_selection import train_test_split"
   ]
  },
  {
   "cell_type": "code",
   "execution_count": 21,
   "metadata": {},
   "outputs": [],
   "source": [
    "X_train, X_test, y_train, y_test = train_test_split(df.drop('profitable_flag', axis=1), df['profitable_flag'],\n",
    "                                                   test_size=0.2)"
   ]
  },
  {
   "cell_type": "code",
   "execution_count": 22,
   "metadata": {},
   "outputs": [],
   "source": [
    "from sklearn.linear_model import LogisticRegression"
   ]
  },
  {
   "cell_type": "code",
   "execution_count": 23,
   "metadata": {
    "scrolled": true
   },
   "outputs": [
    {
     "ename": "ValueError",
     "evalue": "could not convert string to float: ' 1,153 '",
     "output_type": "error",
     "traceback": [
      "\u001b[0;31m---------------------------------------------------------------------------\u001b[0m",
      "\u001b[0;31mValueError\u001b[0m                                Traceback (most recent call last)",
      "\u001b[0;32m<ipython-input-23-0875a425de21>\u001b[0m in \u001b[0;36m<module>\u001b[0;34m\u001b[0m\n\u001b[0;32m----> 1\u001b[0;31m \u001b[0mclf\u001b[0m \u001b[0;34m=\u001b[0m \u001b[0mLogisticRegression\u001b[0m\u001b[0;34m(\u001b[0m\u001b[0;34m)\u001b[0m\u001b[0;34m.\u001b[0m\u001b[0mfit\u001b[0m\u001b[0;34m(\u001b[0m\u001b[0mX_train\u001b[0m\u001b[0;34m,\u001b[0m \u001b[0my_train\u001b[0m\u001b[0;34m)\u001b[0m\u001b[0;34m\u001b[0m\u001b[0;34m\u001b[0m\u001b[0m\n\u001b[0m\u001b[1;32m      2\u001b[0m \u001b[0mprint\u001b[0m\u001b[0;34m(\u001b[0m\u001b[0mclf\u001b[0m\u001b[0;34m.\u001b[0m\u001b[0mscore\u001b[0m\u001b[0;34m(\u001b[0m\u001b[0mX_train\u001b[0m\u001b[0;34m,\u001b[0m \u001b[0my_train\u001b[0m\u001b[0;34m)\u001b[0m\u001b[0;34m)\u001b[0m\u001b[0;34m\u001b[0m\u001b[0;34m\u001b[0m\u001b[0m\n\u001b[1;32m      3\u001b[0m \u001b[0mprint\u001b[0m\u001b[0;34m(\u001b[0m\u001b[0mclf\u001b[0m\u001b[0;34m.\u001b[0m\u001b[0mscore\u001b[0m\u001b[0;34m(\u001b[0m\u001b[0mX_test\u001b[0m\u001b[0;34m,\u001b[0m \u001b[0my_test\u001b[0m\u001b[0;34m)\u001b[0m\u001b[0;34m)\u001b[0m\u001b[0;34m\u001b[0m\u001b[0;34m\u001b[0m\u001b[0m\n",
      "\u001b[0;32m~/Projects/ml_env/lib/python3.6/site-packages/sklearn/linear_model/_logistic.py\u001b[0m in \u001b[0;36mfit\u001b[0;34m(self, X, y, sample_weight)\u001b[0m\n\u001b[1;32m   1525\u001b[0m \u001b[0;34m\u001b[0m\u001b[0m\n\u001b[1;32m   1526\u001b[0m         X, y = check_X_y(X, y, accept_sparse='csr', dtype=_dtype, order=\"C\",\n\u001b[0;32m-> 1527\u001b[0;31m                          accept_large_sparse=solver != 'liblinear')\n\u001b[0m\u001b[1;32m   1528\u001b[0m         \u001b[0mcheck_classification_targets\u001b[0m\u001b[0;34m(\u001b[0m\u001b[0my\u001b[0m\u001b[0;34m)\u001b[0m\u001b[0;34m\u001b[0m\u001b[0;34m\u001b[0m\u001b[0m\n\u001b[1;32m   1529\u001b[0m         \u001b[0mself\u001b[0m\u001b[0;34m.\u001b[0m\u001b[0mclasses_\u001b[0m \u001b[0;34m=\u001b[0m \u001b[0mnp\u001b[0m\u001b[0;34m.\u001b[0m\u001b[0munique\u001b[0m\u001b[0;34m(\u001b[0m\u001b[0my\u001b[0m\u001b[0;34m)\u001b[0m\u001b[0;34m\u001b[0m\u001b[0;34m\u001b[0m\u001b[0m\n",
      "\u001b[0;32m~/Projects/ml_env/lib/python3.6/site-packages/sklearn/utils/validation.py\u001b[0m in \u001b[0;36mcheck_X_y\u001b[0;34m(X, y, accept_sparse, accept_large_sparse, dtype, order, copy, force_all_finite, ensure_2d, allow_nd, multi_output, ensure_min_samples, ensure_min_features, y_numeric, warn_on_dtype, estimator)\u001b[0m\n\u001b[1;32m    753\u001b[0m                     \u001b[0mensure_min_features\u001b[0m\u001b[0;34m=\u001b[0m\u001b[0mensure_min_features\u001b[0m\u001b[0;34m,\u001b[0m\u001b[0;34m\u001b[0m\u001b[0;34m\u001b[0m\u001b[0m\n\u001b[1;32m    754\u001b[0m                     \u001b[0mwarn_on_dtype\u001b[0m\u001b[0;34m=\u001b[0m\u001b[0mwarn_on_dtype\u001b[0m\u001b[0;34m,\u001b[0m\u001b[0;34m\u001b[0m\u001b[0;34m\u001b[0m\u001b[0m\n\u001b[0;32m--> 755\u001b[0;31m                     estimator=estimator)\n\u001b[0m\u001b[1;32m    756\u001b[0m     \u001b[0;32mif\u001b[0m \u001b[0mmulti_output\u001b[0m\u001b[0;34m:\u001b[0m\u001b[0;34m\u001b[0m\u001b[0;34m\u001b[0m\u001b[0m\n\u001b[1;32m    757\u001b[0m         y = check_array(y, 'csr', force_all_finite=True, ensure_2d=False,\n",
      "\u001b[0;32m~/Projects/ml_env/lib/python3.6/site-packages/sklearn/utils/validation.py\u001b[0m in \u001b[0;36mcheck_array\u001b[0;34m(array, accept_sparse, accept_large_sparse, dtype, order, copy, force_all_finite, ensure_2d, allow_nd, ensure_min_samples, ensure_min_features, warn_on_dtype, estimator)\u001b[0m\n\u001b[1;32m    529\u001b[0m                     \u001b[0marray\u001b[0m \u001b[0;34m=\u001b[0m \u001b[0marray\u001b[0m\u001b[0;34m.\u001b[0m\u001b[0mastype\u001b[0m\u001b[0;34m(\u001b[0m\u001b[0mdtype\u001b[0m\u001b[0;34m,\u001b[0m \u001b[0mcasting\u001b[0m\u001b[0;34m=\u001b[0m\u001b[0;34m\"unsafe\"\u001b[0m\u001b[0;34m,\u001b[0m \u001b[0mcopy\u001b[0m\u001b[0;34m=\u001b[0m\u001b[0;32mFalse\u001b[0m\u001b[0;34m)\u001b[0m\u001b[0;34m\u001b[0m\u001b[0;34m\u001b[0m\u001b[0m\n\u001b[1;32m    530\u001b[0m                 \u001b[0;32melse\u001b[0m\u001b[0;34m:\u001b[0m\u001b[0;34m\u001b[0m\u001b[0;34m\u001b[0m\u001b[0m\n\u001b[0;32m--> 531\u001b[0;31m                     \u001b[0marray\u001b[0m \u001b[0;34m=\u001b[0m \u001b[0mnp\u001b[0m\u001b[0;34m.\u001b[0m\u001b[0masarray\u001b[0m\u001b[0;34m(\u001b[0m\u001b[0marray\u001b[0m\u001b[0;34m,\u001b[0m \u001b[0morder\u001b[0m\u001b[0;34m=\u001b[0m\u001b[0morder\u001b[0m\u001b[0;34m,\u001b[0m \u001b[0mdtype\u001b[0m\u001b[0;34m=\u001b[0m\u001b[0mdtype\u001b[0m\u001b[0;34m)\u001b[0m\u001b[0;34m\u001b[0m\u001b[0;34m\u001b[0m\u001b[0m\n\u001b[0m\u001b[1;32m    532\u001b[0m             \u001b[0;32mexcept\u001b[0m \u001b[0mComplexWarning\u001b[0m\u001b[0;34m:\u001b[0m\u001b[0;34m\u001b[0m\u001b[0;34m\u001b[0m\u001b[0m\n\u001b[1;32m    533\u001b[0m                 raise ValueError(\"Complex data not supported\\n\"\n",
      "\u001b[0;32m~/Projects/ml_env/lib/python3.6/site-packages/numpy/core/_asarray.py\u001b[0m in \u001b[0;36masarray\u001b[0;34m(a, dtype, order)\u001b[0m\n\u001b[1;32m     83\u001b[0m \u001b[0;34m\u001b[0m\u001b[0m\n\u001b[1;32m     84\u001b[0m     \"\"\"\n\u001b[0;32m---> 85\u001b[0;31m     \u001b[0;32mreturn\u001b[0m \u001b[0marray\u001b[0m\u001b[0;34m(\u001b[0m\u001b[0ma\u001b[0m\u001b[0;34m,\u001b[0m \u001b[0mdtype\u001b[0m\u001b[0;34m,\u001b[0m \u001b[0mcopy\u001b[0m\u001b[0;34m=\u001b[0m\u001b[0;32mFalse\u001b[0m\u001b[0;34m,\u001b[0m \u001b[0morder\u001b[0m\u001b[0;34m=\u001b[0m\u001b[0morder\u001b[0m\u001b[0;34m)\u001b[0m\u001b[0;34m\u001b[0m\u001b[0;34m\u001b[0m\u001b[0m\n\u001b[0m\u001b[1;32m     86\u001b[0m \u001b[0;34m\u001b[0m\u001b[0m\n\u001b[1;32m     87\u001b[0m \u001b[0;34m\u001b[0m\u001b[0m\n",
      "\u001b[0;31mValueError\u001b[0m: could not convert string to float: ' 1,153 '"
     ]
    }
   ],
   "source": [
    "clf = LogisticRegression().fit(X_train, y_train)\n",
    "print(clf.score(X_train, y_train))\n",
    "print(clf.score(X_test, y_test))"
   ]
  },
  {
   "cell_type": "code",
   "execution_count": 9,
   "metadata": {},
   "outputs": [
    {
     "ename": "ModuleNotFoundError",
     "evalue": "No module named 'xgboost'",
     "output_type": "error",
     "traceback": [
      "\u001b[0;31m---------------------------------------------------------------------------\u001b[0m",
      "\u001b[0;31mModuleNotFoundError\u001b[0m                       Traceback (most recent call last)",
      "\u001b[0;32m<ipython-input-9-477fa34615c5>\u001b[0m in \u001b[0;36m<module>\u001b[0;34m\u001b[0m\n\u001b[0;32m----> 1\u001b[0;31m \u001b[0;32mfrom\u001b[0m \u001b[0mxgboost\u001b[0m \u001b[0;32mimport\u001b[0m \u001b[0mXGBClassifier\u001b[0m\u001b[0;34m\u001b[0m\u001b[0;34m\u001b[0m\u001b[0m\n\u001b[0m",
      "\u001b[0;31mModuleNotFoundError\u001b[0m: No module named 'xgboost'"
     ]
    }
   ],
   "source": [
    "from xgboost import XGBClassifier"
   ]
  },
  {
   "cell_type": "code",
   "execution_count": null,
   "metadata": {},
   "outputs": [],
   "source": []
  }
 ],
 "metadata": {
  "kernelspec": {
   "display_name": "ml_env",
   "language": "python",
   "name": "ml_env"
  },
  "language_info": {
   "codemirror_mode": {
    "name": "ipython",
    "version": 3
   },
   "file_extension": ".py",
   "mimetype": "text/x-python",
   "name": "python",
   "nbconvert_exporter": "python",
   "pygments_lexer": "ipython3",
   "version": "3.6.9"
  }
 },
 "nbformat": 4,
 "nbformat_minor": 2
}
